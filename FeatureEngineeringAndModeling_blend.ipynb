{
 "cells": [
  {
   "cell_type": "code",
   "execution_count": 1,
   "metadata": {},
   "outputs": [],
   "source": [
    "import numpy as np\n",
    "import pandas as pd\n",
    "\n",
    "from sklearn.ensemble import RandomForestRegressor, GradientBoostingRegressor\n",
    "from sklearn.linear_model import Lasso, Ridge, LassoCV,LinearRegression\n",
    "\n",
    "import seaborn as sns\n",
    "import matplotlib.pyplot as plt\n",
    "from datetime import datetime\n",
    "#from IPython.core.interactiveshell import InteractiveShell\n",
    "#InteractiveShell.ast_node_interactivity = \"all\"\n",
    "\n",
    "pd.set_option('display.max_columns', 500)\n",
    "pd.set_option('display.max_colwidth', 30)\n",
    "\n",
    "#sns.set_style(\"whitegrid\")\n",
    "#plt.style.use('bmh')\n",
    "plt.style.use('seaborn-whitegrid')\n",
    "\n",
    "# this allows plots to appear directly in the notebook\n",
    "%matplotlib inline\n",
    "%config InlineBackend.figure_format = 'retina'"
   ]
  },
  {
   "cell_type": "code",
   "execution_count": 2,
   "metadata": {},
   "outputs": [
    {
     "name": "stderr",
     "output_type": "stream",
     "text": [
      "/opt/conda/lib/python3.7/site-packages/ipykernel_launcher.py:2: RuntimeWarning: invalid value encountered in log\n",
      "  \n",
      "/opt/conda/lib/python3.7/site-packages/ipykernel_launcher.py:2: RuntimeWarning: divide by zero encountered in log\n",
      "  \n"
     ]
    },
    {
     "name": "stdout",
     "output_type": "stream",
     "text": [
      "best_score: 0.3411892036783972, best_rate: {'i': 0.27, 'j': 0.12}\n"
     ]
    }
   ],
   "source": [
    "def get_rmsle(y_pred, y_actual):\n",
    "    diff = np.log(y_pred + 1) - np.log(y_actual + 1)\n",
    "    mean_error = np.square(diff).mean()\n",
    "    return np.sqrt(mean_error)\n",
    "\n",
    "rf_pred = pd.read_csv('output2/submit_rf_val_20211025_3.csv', index_col=0)\n",
    "gbm_pred = pd.read_csv('output2/submit_gbm_val_20211025_3.csv', index_col=0)\n",
    "ridge_pred = pd.read_csv('output2/submit_ridge_val_20211025_3.csv', index_col=0)\n",
    "#lasso_pred = pd.read_csv('output2/submit_lasso_val_20211022_1.csv', index_col=0)\n",
    "ridge_actual = pd.read_csv('output2/ridge_actual.csv', index_col=0)\n",
    "\n",
    "# the blend gives a better score on the leaderboard, even though it does not on the validation set\n",
    "best_score = 1\n",
    "for i in np.arange(0, 1, 0.01):\n",
    "    for j in np.arange(0, 1, 0.01):\n",
    "        #for k in np.arange(0, 1, 0.01):\n",
    "        y_pred = np.round(i*np.array(rf_pred) + j*np.array(ridge_pred) + (1-i-j)*np.array(gbm_pred))#k*np.array(lasso_pred) + (1-i-j-k)*np.array(gbm_pred))\n",
    "        score = get_rmsle(y_pred,np.array(ridge_actual))\n",
    "        if score < best_score:\n",
    "            best_score = score\n",
    "            best_rate = {'i':i,'j':j}#'k':k}\n",
    "\n",
    "print(f'best_score: {best_score}, best_rate: {best_rate}')\n"
   ]
  },
  {
   "cell_type": "code",
   "execution_count": 3,
   "metadata": {},
   "outputs": [],
   "source": [
    "rf_pred = pd.read_csv('output2/submit_rf_20211025_3.csv', index_col=0)\n",
    "gbm_pred = pd.read_csv('output2/submit_gbm_20211025_3.csv', index_col=0)\n",
    "ridge_pred = pd.read_csv('output2/submit_ridge_20211025_3.csv', index_col=0)\n",
    "#lasso_pred = pd.read_csv('output2/submit_lasso_20211022_1.csv', index_col=0)\n",
    "\n",
    "y_pred = np.round(best_rate['i']*np.array(rf_pred) + best_rate['j']*np.array(ridge_pred) + (1-best_rate['i']-best_rate['j'])*np.array(gbm_pred))#best_rate['k']*np.array(lasso_pred) + (1-best_rate['i']-best_rate['j']-best_rate['k'])*np.array(gbm_pred))\n",
    "\n",
    "temp_pred = pd.read_csv('output2/submit_rf_20211015_1.csv')\n",
    "# output predictions for submission\n",
    "submit_manual_blend_df = temp_pred.copy()#[['datetime', 'count']].copy()\n",
    "submit_manual_blend_df['count'] = y_pred\n",
    "submit_manual_blend_df.to_csv('output2/submit_manual_blend_20211025_3.csv', index=False)\n"
   ]
  },
  {
   "cell_type": "code",
   "execution_count": null,
   "metadata": {},
   "outputs": [],
   "source": []
  }
 ],
 "metadata": {
  "interpreter": {
   "hash": "d4d1e4263499bec80672ea0156c357c1ee493ec2b1c70f0acce89fc37c4a6abe"
  },
  "kernelspec": {
   "display_name": "Python 3.9.6 64-bit ('base': conda)",
   "name": "python3"
  },
  "language_info": {
   "codemirror_mode": {
    "name": "ipython",
    "version": 3
   },
   "file_extension": ".py",
   "mimetype": "text/x-python",
   "name": "python",
   "nbconvert_exporter": "python",
   "pygments_lexer": "ipython3",
   "version": "3.7.10"
  },
  "orig_nbformat": 4
 },
 "nbformat": 4,
 "nbformat_minor": 2
}
